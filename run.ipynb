{
 "cells": [
  {
   "cell_type": "code",
   "execution_count": 1,
   "metadata": {},
   "outputs": [
    {
     "name": "stderr",
     "output_type": "stream",
     "text": [
      "2023-06-20 20:39:59.480456: I tensorflow/core/platform/cpu_feature_guard.cc:182] This TensorFlow binary is optimized to use available CPU instructions in performance-critical operations.\n",
      "To enable the following instructions: AVX2 AVX512F FMA, in other operations, rebuild TensorFlow with the appropriate compiler flags.\n"
     ]
    }
   ],
   "source": [
    "import os  \n",
    "import sys \n",
    "import uuid\n",
    "import activelearning as al\n",
    "from activelearning.config import cfg, Directories\n",
    "import time\n",
    "import fnmatch\n",
    "\n",
    "sys.path.insert(0, os.path.abspath('..')) \n",
    "default_cluster_id = cfg.PARALLEL.CLUSTER_ID"
   ]
  },
  {
   "cell_type": "code",
   "execution_count": 2,
   "metadata": {},
   "outputs": [],
   "source": [
    "def run_job(notebook_path,\n",
    "            config_path, \n",
    "            name=\"active_learning\", \n",
    "            partition=\"gpu\", \n",
    "            n_cpus=6, ram=\"64GB\",\n",
    "            max_time=\"120:00:00\", ):\n",
    "    s = \"\"\n",
    "\n",
    "    s += f\" --job-name={name}\"\n",
    "    s += f\" --partition={partition}\"\n",
    "    s += f\" --time={max_time}\"\n",
    "\n",
    "    s += f\" --nodes=1\"\n",
    "    s += f\" --cpus-per-task={n_cpus}\"\n",
    "    \n",
    "    if partition in (\"gpu\", \"dgx\"):\n",
    "        s += \" --gres=gpu:1\"\n",
    "        \n",
    "    s += f\" --mem={ram}\"\n",
    "\n",
    "    s += \" --output=logs/tjob_%A_%a_out.txt\"\n",
    "    s += \" --error=logs/tjob_%A_%a_err.txt\"\n",
    "\n",
    "    s += f\" -D {os.getcwd()}\"\n",
    "\n",
    "    # -- Beginning of the sh script to run the job\n",
    "    s += \" --wrap=\\\"\"\n",
    "    #\n",
    "    s += \"echo 'jobid $SLURM_JOB_ID';\"\n",
    "\n",
    "    s += \"python run.py\"\n",
    "    s += f\" -config_path {config_path}\"\n",
    "    s += f\" -notebook_path {notebook_path}\"\n",
    "    #\n",
    "\n",
    "    s += \"\\\"\"\n",
    "    # -- End of sh script\n",
    "\n",
    "    print(s)\n",
    "    os.system(f\"sbatch {s}\")\n"
   ]
  },
  {
   "attachments": {},
   "cell_type": "markdown",
   "metadata": {},
   "source": [
    "Please note that any change un the configuration parameters here will not be propagated (because the config file just gets copied)."
   ]
  },
  {
   "cell_type": "code",
   "execution_count": 3,
   "metadata": {},
   "outputs": [],
   "source": [
    "cfg.merge_from_file(\"configs/cavities/cavities.yaml\")\n",
    "\n",
    "config_path = \"configs/cavities/six-random-small-noise-couplingrandom.yaml\"\n",
    "cfg.PATH.EXPERIMENT_NAME = config_path.split(\"/\")[-1].split(\".\")[0] +\"_2023_again_2\"\n",
    "\n",
    "config_path = \"configs/cavities/six-random-small-noise-paper.yaml\"\n",
    "cfg.PATH.EXPERIMENT_NAME = config_path.split(\"/\")[-1].split(\".\")[0] + \"_june\""
   ]
  },
  {
   "cell_type": "code",
   "execution_count": 3,
   "metadata": {},
   "outputs": [],
   "source": [
    "config_path = \"configs/qubits.yaml\"\n",
    "cfg.PATH.EXPERIMENT_NAME = config_path.split(\"/\")[-1].split(\".\")[0] #+ \"_bugfix_retry\""
   ]
  },
  {
   "cell_type": "code",
   "execution_count": 3,
   "metadata": {},
   "outputs": [],
   "source": [
    "config_path = \"configs/qubits-4-nometric.yaml\"\n",
    "cfg.PATH.EXPERIMENT_NAME = config_path.split(\"/\")[-1].split(\".\")[0]"
   ]
  },
  {
   "cell_type": "code",
   "execution_count": 3,
   "metadata": {},
   "outputs": [],
   "source": [
    "config_path = \"configs/qubits-binomial.yaml\"\n",
    "cfg.PATH.EXPERIMENT_NAME = config_path.split(\"/\")[-1].split(\".\")[0] +\"_retry\""
   ]
  },
  {
   "cell_type": "code",
   "execution_count": 5,
   "metadata": {},
   "outputs": [],
   "source": [
    "config_path = \"configs/qubits-binomial-4.yaml\"\n",
    "cfg.PATH.EXPERIMENT_NAME = config_path.split(\"/\")[-1].split(\".\")[0] + \"_june3_metric\""
   ]
  },
  {
   "cell_type": "code",
   "execution_count": 3,
   "metadata": {},
   "outputs": [],
   "source": [
    "config_path = \"configs/qubits-binomial-4-smallcount.yaml\"\n",
    "cfg.PATH.EXPERIMENT_NAME = config_path.split(\"/\")[-1].split(\".\")[0] + \"_june2_metric\""
   ]
  },
  {
   "cell_type": "code",
   "execution_count": 3,
   "metadata": {},
   "outputs": [],
   "source": [
    "config_path = \"configs/qubits-binomial-4-nometric-longer.yaml\"\n",
    "cfg.PATH.EXPERIMENT_NAME = config_path.split(\"/\")[-1].split(\".\")[0] + \"_retry\""
   ]
  },
  {
   "cell_type": "code",
   "execution_count": 3,
   "metadata": {},
   "outputs": [],
   "source": [
    "config_path = \"configs/qubits-4-nometric.yaml\"\n",
    "cfg.PATH.EXPERIMENT_NAME = config_path.split(\"/\")[-1].split(\".\")[0] +\"_june\""
   ]
  },
  {
   "cell_type": "code",
   "execution_count": 3,
   "metadata": {},
   "outputs": [],
   "source": [
    "config_path = \"configs/qubits-binary-4-nometric.yaml\"\n",
    "cfg.PATH.EXPERIMENT_NAME = config_path.split(\"/\")[-1].split(\".\")[0] +\"_june_latestopping\""
   ]
  },
  {
   "cell_type": "code",
   "execution_count": 3,
   "metadata": {},
   "outputs": [],
   "source": [
    "config_path = \"configs/qubits-binomial-4-nometric.yaml\"\n",
    "cfg.PATH.EXPERIMENT_NAME = config_path.split(\"/\")[-1].split(\".\")[0] +\"_june_latestopping\""
   ]
  },
  {
   "cell_type": "code",
   "execution_count": 9,
   "metadata": {},
   "outputs": [],
   "source": [
    "config_path = \"configs/qubits-many-measurements.yaml\"\n",
    "cfg.PATH.EXPERIMENT_NAME = config_path.split(\"/\")[-1].split(\".\")[0] + \"_attempt2\""
   ]
  },
  {
   "cell_type": "code",
   "execution_count": 3,
   "metadata": {},
   "outputs": [],
   "source": [
    "config_path = \"configs/linear-toy-2023-changestest.yaml\"\n",
    "cfg.PATH.EXPERIMENT_NAME = config_path.split(\"/\")[-1].split(\".\")[0] + \"_old_again\" #\"-2023_larger_batchsize\"\n",
    "# cfg.PATH.EXPERIMENT_NAME = \"test_linear\""
   ]
  },
  {
   "cell_type": "code",
   "execution_count": 5,
   "metadata": {},
   "outputs": [],
   "source": [
    "notebook_path =  \"notebook.ipynb\"\n",
    "partition=\"dgx\"\n",
    "# partition=\"standard\"\n",
    "# partition=\"highfreq\"\n",
    "\n",
    "cfg.ADVISOR.NAME = \"InformationGainAdvisor\"\n",
    "# cfg.ADVISOR.NAME = \"RandomAdvisor\"\n",
    "# cfg.ADVISOR.NAME = \"FixedAdvisor\"\n",
    "cfg.ADVISOR.NAME = \"UniformGridAdvisor\"\n",
    "\n",
    "cfg.merge_from_file(config_path)\n",
    "cfg.PATH.SUBLABEL =  cfg.ADVISOR.NAME"
   ]
  },
  {
   "attachments": {},
   "cell_type": "markdown",
   "metadata": {},
   "source": [
    "Restore job"
   ]
  },
  {
   "cell_type": "code",
   "execution_count": 12,
   "metadata": {},
   "outputs": [
    {
     "name": "stdout",
     "output_type": "stream",
     "text": [
      "Resuming checkpoint\n",
      "InformationGainAdvisor_646a46e9-8b99-4930-92df-2d0ef3fc17f3\n",
      "InformationGainAdvisor_180efce9-13df-4926-b424-1e76fed08337\n",
      " --job-name=active_learning --partition=gpu --time=120:00:00 --nodes=1 --cpus-per-task=6 --gres=gpu:1 --mem=64GB --output=logs/tjob_%A_%a_out.txt --error=logs/tjob_%A_%a_err.txt -D /zeropoint/u/lsarra/notebooks/active-learning-nf-test --wrap=\"echo 'jobid $SLURM_JOB_ID';python run.py -config_path outputs/qubits-binomial-4_june3_metric/configs/InformationGainAdvisor_180efce9-13df-4926-b424-1e76fed08337.yaml -notebook_path notebook.ipynb\"\n",
      "Submitted batch job 6137149\n",
      "InformationGainAdvisor_5048fcfd-6e2a-4fa3-b0e9-ebf1bf537c16\n"
     ]
    }
   ],
   "source": [
    "if os.path.exists(al.config.Directories().PATH_OUTPUT_EXPERIMENT):\n",
    "    print(\"Resuming checkpoint\")\n",
    "    for file in fnmatch.filter(os.listdir(al.config.Directories().PATH_OUTPUT_CONFIGS), \n",
    "                               f'{cfg.PATH.SUBLABEL}*'):\n",
    "        cfg.PATH.SUBLABEL =  file.split(\".yaml\")[0]\n",
    "        load_path = f\"{al.config.Directories().PATH_OUTPUT_CONFIGS}/{file}\"\n",
    "        cfg.merge_from_file(load_path)\n",
    "        \n",
    "        print(cfg.PATH.SUBLABEL)\n",
    "        # print(notebook_path, load_path,partition)\n",
    "        \n",
    "        if cfg.PATH.SUBLABEL == \"InformationGainAdvisor_180efce9-13df-4926-b424-1e76fed08337\":\n",
    "                run_job(notebook_path, \n",
    "                        config_path=load_path,\n",
    "                        partition=partition)\n",
    "                \n",
    "                if cfg.ADVISOR.NAME ==\"InformationGainAdvisor\": \n",
    "                        time.sleep(70) # give time to load\n",
    "else:\n",
    "        print(\"Experiment does not exist yet. Cannot resume, create a new experiment.\")"
   ]
  },
  {
   "attachments": {},
   "cell_type": "markdown",
   "metadata": {},
   "source": [
    "New Run"
   ]
  },
  {
   "cell_type": "code",
   "execution_count": 6,
   "metadata": {},
   "outputs": [],
   "source": [
    "# cfg.ADVISOR.N_TRAIN = 6000\n",
    "# cfg.TRAINING.N_MEASUREMENTS = 400\n",
    "\n",
    "n_jobs = 3\n",
    "\n",
    "cfg.PARALLEL.N_NODES = 30\n",
    "# cfg.LEARNER.POSTERIOR.TYPE = \"Gaussian\"\n",
    "# cfg.PATH.EXPERIMENT_NAME = \"barrier-10-small-noise-extended\"\n",
    "\n",
    "random_sublabel = True\n",
    "cfg.PARALLEL.ENABLED = True if cfg.ADVISOR.NAME ==\"InformationGainAdvisor\" else False\n",
    "\n",
    "# \"parallel_standard\" (cpu) / \"parallel_jpt\" (gpu)\n",
    "if partition==\"standard\":\n",
    "    cfg.PARALLEL.PROFILE_ID = \"parallel_standard\"\n",
    "else: \n",
    "    cfg.PARALLEL.PROFILE_ID = \"parallel_jpt\""
   ]
  },
  {
   "cell_type": "code",
   "execution_count": 7,
   "metadata": {},
   "outputs": [
    {
     "name": "stdout",
     "output_type": "stream",
     "text": [
      "Creating directories...\n",
      " --job-name=active_learning --partition=dgx --time=120:00:00 --nodes=1 --cpus-per-task=6 --gres=gpu:1 --mem=64GB --output=logs/tjob_%A_%a_out.txt --error=logs/tjob_%A_%a_err.txt -D /zeropoint/u/lsarra/notebooks/active-learning-nf-test --wrap=\"echo 'jobid $SLURM_JOB_ID';python run.py -config_path outputs/six-random-small-noise-paper_june/configs/UniformGridAdvisor_e3e5fc26-1fe6-473f-a037-8059c0c32089.yaml -notebook_path notebook.ipynb\"\n",
      "Submitted batch job 6168184\n",
      "Creating directories...\n",
      " --job-name=active_learning --partition=dgx --time=120:00:00 --nodes=1 --cpus-per-task=6 --gres=gpu:1 --mem=64GB --output=logs/tjob_%A_%a_out.txt --error=logs/tjob_%A_%a_err.txt -D /zeropoint/u/lsarra/notebooks/active-learning-nf-test --wrap=\"echo 'jobid $SLURM_JOB_ID';python run.py -config_path outputs/six-random-small-noise-paper_june/configs/UniformGridAdvisor_a1d45b11-8466-4b53-902b-abe09eba7c13.yaml -notebook_path notebook.ipynb\"\n",
      "Submitted batch job 6168185\n",
      "Creating directories...\n",
      " --job-name=active_learning --partition=dgx --time=120:00:00 --nodes=1 --cpus-per-task=6 --gres=gpu:1 --mem=64GB --output=logs/tjob_%A_%a_out.txt --error=logs/tjob_%A_%a_err.txt -D /zeropoint/u/lsarra/notebooks/active-learning-nf-test --wrap=\"echo 'jobid $SLURM_JOB_ID';python run.py -config_path outputs/six-random-small-noise-paper_june/configs/UniformGridAdvisor_bd1316f9-2ced-44a8-8101-b0cb5e745822.yaml -notebook_path notebook.ipynb\"\n",
      "Submitted batch job 6168186\n"
     ]
    }
   ],
   "source": [
    "for _ in range(n_jobs):\n",
    "    if random_sublabel:\n",
    "        rnd_id = f\"_{str(uuid.uuid4())}\"\n",
    "        cfg.PATH.SUBLABEL =  cfg.ADVISOR.NAME + rnd_id\n",
    "        cfg.PARALLEL.CLUSTER_ID = default_cluster_id + rnd_id\n",
    "\n",
    "    new_config_path = f\"{al.config.Directories().PATH_OUTPUT_CONFIGS}/{cfg.PATH.SUBLABEL}.yaml\"\n",
    "    al.utils.init_output_directories()\n",
    "\n",
    "    run_job(notebook_path, new_config_path,\n",
    "            partition=partition)\n",
    "    \n",
    "        \n",
    "    if cfg.ADVISOR.NAME ==\"InformationGainAdvisor\": \n",
    "        time.sleep(70) # give time to launch parallel nodes"
   ]
  },
  {
   "cell_type": "code",
   "execution_count": null,
   "metadata": {},
   "outputs": [],
   "source": []
  }
 ],
 "metadata": {
  "interpreter": {
   "hash": "ffa8639429eb69c196fa8855b6990bd12e615705bade715fb538a51aa37cf410"
  },
  "kernelspec": {
   "display_name": "Python 3.8.11 64-bit ('tensor': conda)",
   "language": "python",
   "name": "python3"
  },
  "language_info": {
   "codemirror_mode": {
    "name": "ipython",
    "version": 3
   },
   "file_extension": ".py",
   "mimetype": "text/x-python",
   "name": "python",
   "nbconvert_exporter": "python",
   "pygments_lexer": "ipython3",
   "version": "3.9.16"
  },
  "orig_nbformat": 4
 },
 "nbformat": 4,
 "nbformat_minor": 2
}

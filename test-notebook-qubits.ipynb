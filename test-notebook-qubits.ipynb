{
 "cells": [
  {
   "attachments": {},
   "cell_type": "markdown",
   "metadata": {},
   "source": [
    "Some manual tests for the qubits system.\n",
    "\n",
    "Useful to analyze the behavior of the system in different regimes (and assess the performance of the quantum system evolution in TensorFlow)."
   ]
  },
  {
   "cell_type": "code",
   "execution_count": null,
   "metadata": {},
   "outputs": [],
   "source": [
    "import numpy as np\n",
    "import matplotlib.pyplot as plt\n",
    "import tensorflow as tf\n",
    "import tensorflow.keras as K\n",
    "import tensorflow_probability as tfp\n",
    "from tqdm import tqdm, trange\n",
    "import activelearning as al"
   ]
  },
  {
   "cell_type": "code",
   "execution_count": null,
   "metadata": {},
   "outputs": [],
   "source": [
    "tf_complex = tf.complex128\n",
    "sigma_x = tf.constant([[0, 1], [1, 0]], dtype=tf_complex)\n",
    "sigma_y = tf.constant([[0j, -1j], [1j, 0j]], dtype=tf_complex)\n",
    "sigma_z = tf.constant([[1, 0], [0, -1]], dtype=tf_complex)\n",
    "tf_kron = tf.experimental.numpy.kron"
   ]
  },
  {
   "cell_type": "code",
   "execution_count": null,
   "metadata": {},
   "outputs": [],
   "source": [
    "dim_x = 1\n",
    "dim_y = 1\n",
    "dim_lambda = 5\n",
    "\n",
    "# System size\n",
    "n_qubits = dim_lambda\n",
    "\n",
    "# Hamiltonian parameters\n",
    "frequencies = [1.0] * n_qubits\n",
    "coupling = 0.5\n",
    "\n",
    "# Excited pulse\n",
    "excited_qubit_idx = 0\n",
    "alpha_pulse = 2.0\n",
    "\n",
    "# Evolution parameters\n",
    "evolution_time = 3\n",
    "delta_t = 0.01\n",
    "n_steps = int(evolution_time / delta_t)\n",
    "\n",
    "# Measured qubit\n",
    "measurement_idx = 0\n",
    "\n",
    "\n",
    "tf_n_qubits = tf.convert_to_tensor(n_qubits, tf_complex)\n",
    "tf_frequencies = tf.convert_to_tensor(frequencies, tf_complex)\n",
    "tf_coupling = tf.convert_to_tensor(coupling, tf_complex)\n",
    "\n",
    "tf_alpha_pulse = tf.convert_to_tensor(alpha_pulse, tf_complex)\n",
    "\n",
    "tf_evolution_time = tf.constant(evolution_time, tf_complex)\n",
    "tf_delta_t = tf.constant(delta_t, tf_complex)\n",
    "tf_n_steps = tf.constant(n_steps, tf_complex)"
   ]
  },
  {
   "cell_type": "code",
   "execution_count": null,
   "metadata": {},
   "outputs": [],
   "source": [
    "@tf.function\n",
    "def tf_kron(tf_A, tf_B):\n",
    "    tf_shape = tf_A.shape[-1] * tf_B.shape[-1]\n",
    "    return tf.reshape(\n",
    "        tf_A[..., :, None, :, None] * tf_B[..., None, :, None, :],\n",
    "        (-1, tf_shape, tf_shape),\n",
    "    )\n",
    "\n",
    "\n",
    "@tf.function\n",
    "def tf_get_H(tf_frequencies, tf_coupling):\n",
    "    tf_H_diag = sum(\n",
    "        tf_kron(\n",
    "            tf_kron(\n",
    "                tf.eye(2**i, dtype=tf_complex),\n",
    "                tf_frequencies[..., i, None, None] * sigma_z,\n",
    "            ),\n",
    "            tf.eye(2 ** (n_qubits - i - 1), dtype=tf_complex),\n",
    "        )\n",
    "        for i in range(n_qubits)\n",
    "    )\n",
    "\n",
    "    tf_H_int = tf_coupling * sum(\n",
    "        tf_kron(\n",
    "            tf_kron(\n",
    "                tf_kron(\n",
    "                    tf_kron(tf.eye(2**i, dtype=tf_complex), sigma_x),\n",
    "                    tf.eye(2 ** (j - i - 1), dtype=tf_complex),\n",
    "                ),\n",
    "                sigma_x,\n",
    "            ),\n",
    "            tf.eye(2 ** (n_qubits - j - 1), dtype=tf_complex),\n",
    "        )\n",
    "        for i in range(n_qubits)\n",
    "        for j in range(i + 1, n_qubits)\n",
    "    )\n",
    "\n",
    "    return tf_H_diag + tf_H_int\n",
    "\n",
    "\n",
    "@tf.function\n",
    "def tf_ground_state(tf_H):\n",
    "    tf_eigvals, tf_eigvects = tf.eig(tf_H)\n",
    "    tf_indices = tf.argmin(tf.math.real(tf_eigvals), axis=-1)\n",
    "    tf_ground = tf.gather(tf_eigvects, tf_indices, axis=-1, batch_dims=1)\n",
    "    return tf_ground\n",
    "\n",
    "\n",
    "@tf.function\n",
    "def tf_apply_pulse(tf_alpha_pulse, psi):\n",
    "    U_pulse_ = tf.linalg.expm(-1j * tf_alpha_pulse * sigma_x)\n",
    "    U_pulse = tf_kron(\n",
    "        tf_kron(tf.eye(2**excited_qubit_idx, dtype=tf_complex), U_pulse_),\n",
    "        tf.eye(2 ** (n_qubits - excited_qubit_idx - 1), dtype=tf_complex),\n",
    "    )[0]\n",
    "    tf_excited = tf.tensordot(psi, U_pulse, axes=[-1, -1])\n",
    "    return tf_excited\n",
    "\n",
    "\n",
    "@tf.function\n",
    "def schroedinger_rhs(tf_H, tf_psi):\n",
    "    return -1j * tf.einsum(\"...ij,...j->...i\", tf_H, tf_psi)\n",
    "\n",
    "\n",
    "@tf.function\n",
    "def rk_step(tf_H, tf_psi, rhs, tf_dt):\n",
    "    k1 = rhs(tf_H, tf_psi)\n",
    "    k2 = rhs(tf_H, tf_psi + 0.5 * tf_dt * k1)\n",
    "    k3 = rhs(tf_H, tf_psi + 0.5 * tf_dt * k2)\n",
    "    k4 = rhs(tf_H, tf_psi + tf_dt * k3)\n",
    "    return (tf_dt / 6.0) * (k1 + 2 * k2 + 2 * k3 + k4)\n",
    "\n",
    "\n",
    "@tf.function\n",
    "def tf_evolve_psi(tf_H, tf_psi, tf_dt):\n",
    "    tf_evolved = tf_psi\n",
    "    for i in range(n_steps):\n",
    "        tf_evolved += rk_step(tf_H, tf_evolved, schroedinger_rhs, tf_dt)\n",
    "    return tf_evolved\n",
    "\n",
    "\n",
    "@tf.function\n",
    "def tf_density_mat(tf_psi):\n",
    "    return tf.einsum(\"...i,...k->...ik\", tf.math.conj(tf_psi), tf_psi)\n",
    "\n",
    "\n",
    "@tf.function\n",
    "def tf_measure_probs(tf_rho):\n",
    "    qubit_reshape = [2**measurement_idx, 2, 2 ** (n_qubits - measurement_idx - 1)]\n",
    "    tf_rho_qubits = tf.reshape(tf_rho, [-1, *(qubit_reshape * 2)])\n",
    "\n",
    "    tf_rho_traced = tf.linalg.trace(\n",
    "        tf.linalg.trace(tf.transpose(tf_rho_qubits, (0, 2, 5, 1, 4, 3, 6)))\n",
    "    )\n",
    "    tf_probs = tf.linalg.diag_part(\n",
    "        tf.einsum(\"ij,...jk,kl->...il\", sigma_z, tf_rho_traced, sigma_z)\n",
    "    )\n",
    "\n",
    "    return tf_probs"
   ]
  },
  {
   "cell_type": "code",
   "execution_count": null,
   "metadata": {},
   "outputs": [],
   "source": []
  },
  {
   "cell_type": "code",
   "execution_count": null,
   "metadata": {},
   "outputs": [],
   "source": [
    "evolution_time = 3\n",
    "delta_t = evolution_time / n_steps\n",
    "\n",
    "tf_evolution_time = tf.constant(evolution_time, tf_complex)\n",
    "tf_delta_t = tf.constant(delta_t, tf_complex)\n",
    "tf_n_steps = tf.constant(n_steps, tf_complex)"
   ]
  },
  {
   "cell_type": "code",
   "execution_count": null,
   "metadata": {},
   "outputs": [],
   "source": [
    "tf_H = tf_get_H(tf_frequencies, tf_coupling)\n",
    "tf_psi_ground = tf_ground_state(tf_H)\n",
    "tf_psi_excited = tf_apply_pulse(tf_alpha_pulse, tf_psi_ground)\n",
    "tf_psi_evolved = tf_evolve_psi(tf_H, tf_psi_excited, tf_delta_t)\n",
    "tf_rho = tf_density_mat(tf_psi_evolved)\n",
    "tf_probs = tf.math.real(tf_measure_probs(tf_rho))"
   ]
  },
  {
   "cell_type": "code",
   "execution_count": null,
   "metadata": {},
   "outputs": [],
   "source": []
  },
  {
   "cell_type": "code",
   "execution_count": null,
   "metadata": {},
   "outputs": [],
   "source": [
    "qubit_reshape = [2**measurement_idx, 2, 2 ** (n_qubits - measurement_idx - 1)]\n",
    "tf_rho_qubits = tf.reshape(tf_rho, [-1, *(qubit_reshape * 2)])\n",
    "\n",
    "tf_rho_traced = tf.linalg.trace(\n",
    "    tf.linalg.trace(tf.transpose(tf_rho_qubits, (0, 2, 5, 1, 4, 3, 6)))\n",
    ")\n",
    "tf_probs = tf.linalg.diag_part(\n",
    "    tf.einsum(\"ij,...jk,kl->...il\", sigma_z, tf_rho_traced, sigma_z)\n",
    ")"
   ]
  },
  {
   "cell_type": "code",
   "execution_count": null,
   "metadata": {},
   "outputs": [],
   "source": [
    "qubit_reshape = [2**measurement_idx, 2, 2 ** (n_qubits - measurement_idx - 1)]\n",
    "tf_rho_qubits = tf.reshape(tf_rho, [-1, *(qubit_reshape * 2)])\n",
    "\n",
    "tf_rho_traced = tf.linalg.trace(\n",
    "    tf.linalg.trace(tf.transpose(tf_rho_qubits, (0, 2, 5, 1, 4, 3, 6)))\n",
    ")"
   ]
  },
  {
   "cell_type": "code",
   "execution_count": null,
   "metadata": {},
   "outputs": [],
   "source": [
    "evolution_time = 5\n",
    "delta_t = evolution_time / n_steps\n",
    "\n",
    "tf_evolution_time = tf.constant(evolution_time, tf_complex)\n",
    "tf_delta_t = tf.constant(delta_t, tf_complex)\n",
    "tf_n_steps = tf.constant(n_steps, tf_complex)\n",
    "\n",
    "with tf.GradientTape() as tape:\n",
    "    tape.watch([tf_alpha_pulse, tf_frequencies])\n",
    "\n",
    "    tf_H = tf_get_H(tf_frequencies, tf_coupling)\n",
    "    tf_psi_ground = tf_ground_state(tf_H)\n",
    "    tf_psi_excited = tf_apply_pulse(tf_alpha_pulse, tf_psi_ground)\n",
    "    tf_psi_evolved = tf_evolve_psi(tf_H, tf_psi_excited, tf_delta_t)\n",
    "    tf_rho = tf_density_mat(tf_psi_evolved)\n",
    "    tf_probs = tf.math.real(tf_measure_probs(tf_rho))\n",
    "\n",
    "tape.gradient(tf_probs, tf_alpha_pulse)"
   ]
  },
  {
   "cell_type": "code",
   "execution_count": null,
   "metadata": {},
   "outputs": [],
   "source": [
    "tf_H = tf_get_H(tf_frequencies, tf_coupling)\n",
    "tf_psi_ground = tf_ground_state(tf_H)\n",
    "tf_psi_excited = tf_apply_pulse(tf_alpha_pulse, tf_psi_ground)\n",
    "\n",
    "probs = []\n",
    "for i in tqdm(np.linspace(0, 5, 100)):\n",
    "    evolution_time = i\n",
    "    delta_t = evolution_time / n_steps\n",
    "\n",
    "    tf_evolution_time = tf.constant(evolution_time, tf_complex)\n",
    "    tf_delta_t = tf.constant(delta_t, tf_complex)\n",
    "    tf_n_steps = tf.constant(n_steps, tf_complex)\n",
    "    tf_psi_evolved = tf_evolve_psi(tf_H, tf_psi_excited, tf_delta_t)\n",
    "    tf_rho = tf_density_mat(tf_psi_evolved)\n",
    "    tf_probs = tf.math.real(tf_measure_probs(tf_rho))\n",
    "    probs.append(tf_probs[:, 0].numpy())"
   ]
  },
  {
   "cell_type": "code",
   "execution_count": null,
   "metadata": {},
   "outputs": [],
   "source": [
    "np.testing.assert_almost_equal(tf.linalg.norm(tf_psi_ground[0]).numpy(), 1.0, decimal=3)\n",
    "np.testing.assert_almost_equal(\n",
    "    tf.linalg.norm(tf_psi_excited[0]).numpy(), 1.0, decimal=3\n",
    ")\n",
    "np.testing.assert_almost_equal(\n",
    "    tf.linalg.norm(tf_psi_evolved[0]).numpy(), 1.0, decimal=3\n",
    ")\n",
    "np.testing.assert_almost_equal(tf.reduce_sum(tf_probs[0]), 1.0, decimal=3)"
   ]
  },
  {
   "cell_type": "code",
   "execution_count": null,
   "metadata": {},
   "outputs": [],
   "source": [
    "plt.figure()\n",
    "for i in range(len(probs[0])):\n",
    "    plt.scatter(np.linspace(0, 5, 100), np.array(probs)[:, i])\n",
    "plt.show()"
   ]
  },
  {
   "attachments": {},
   "cell_type": "markdown",
   "metadata": {},
   "source": [
    "Test qubit system parameters"
   ]
  },
  {
   "cell_type": "code",
   "execution_count": null,
   "metadata": {},
   "outputs": [],
   "source": [
    "system = al.systems.get_system_from_name(al.systems.Qubits.__name__)(\n",
    "    dim_lambda=5, type_lambda=\"all_ones\", x_range=[0, 5], coupling=0.5\n",
    ")"
   ]
  },
  {
   "cell_type": "code",
   "execution_count": null,
   "metadata": {},
   "outputs": [],
   "source": [
    "system = al.systems.get_system_from_name(al.systems.Qubits.__name__)(\n",
    "    dim_lambda=5, type_lambda=\"all_ones\", x_range=[0, 5], coupling=0.5\n",
    ")"
   ]
  },
  {
   "cell_type": "code",
   "execution_count": null,
   "metadata": {},
   "outputs": [],
   "source": [
    "system.plot_response(PLOT_EXTENT=[0, 50])"
   ]
  },
  {
   "cell_type": "code",
   "execution_count": null,
   "metadata": {},
   "outputs": [],
   "source": [
    "system.plot_response(PLOT_EXTENT=[0, 10])"
   ]
  },
  {
   "cell_type": "code",
   "execution_count": null,
   "metadata": {},
   "outputs": [],
   "source": [
    "system.plot_response(PLOT_EXTENT=[0, 5])"
   ]
  },
  {
   "cell_type": "code",
   "execution_count": null,
   "metadata": {},
   "outputs": [],
   "source": [
    "system.plot_response(PLOT_EXTENT=[0, 5])"
   ]
  },
  {
   "cell_type": "code",
   "execution_count": null,
   "metadata": {},
   "outputs": [],
   "source": [
    "system.plot_response(PLOT_EXTENT=[0, 5])"
   ]
  },
  {
   "cell_type": "code",
   "execution_count": null,
   "metadata": {},
   "outputs": [],
   "source": []
  },
  {
   "cell_type": "code",
   "execution_count": null,
   "metadata": {},
   "outputs": [],
   "source": []
  },
  {
   "cell_type": "code",
   "execution_count": null,
   "metadata": {},
   "outputs": [],
   "source": [
    "tf_x_ = tf.cast(0.3, tf_complex)  # represents evolution time\n",
    "tf_lambda_ = tf.cast(system.tf_real_lambda, tf_complex)  # represents qubit frequencies\n",
    "\n",
    "tf_H = system.tf_get_H(tf_lambda_, system.tf_coupling)\n",
    "tf_psi_ground = system.tf_ground_state(tf_H)\n",
    "tf_psi_excited = system.tf_apply_pulse(system.tf_alpha_pulse, tf_psi_ground)\n",
    "tf_psi_evolved = system.tf_evolve_psi(tf_H, tf_psi_excited, tf_x_)\n",
    "tf_rho = system.tf_density_mat(tf_psi_evolved)\n",
    "tf_probs = tf.math.real(system.tf_measure_probs(tf_rho))"
   ]
  },
  {
   "cell_type": "code",
   "execution_count": null,
   "metadata": {},
   "outputs": [],
   "source": [
    "# tf_H = tf_get_H(tf_frequencies, tf_coupling)\n",
    "# tf_psi_ground = tf_ground_state(tf_H)\n",
    "# tf_psi_excited = tf_apply_pulse(tf_alpha_pulse, tf_psi_ground)\n",
    "\n",
    "probs = []\n",
    "for i in tqdm(np.linspace(0, 5, 100)):\n",
    "    tf_x_ = tf.cast(i, tf_complex)  # represents evolution time\n",
    "    tf_lambda_ = tf.cast(\n",
    "        system.tf_real_lambda, tf_complex\n",
    "    )  # represents qubit frequencies\n",
    "\n",
    "    tf_H = system.tf_get_H(tf_lambda_, system.tf_coupling)\n",
    "    tf_psi_ground = system.tf_ground_state(tf_H)\n",
    "    tf_psi_excited = system.tf_apply_pulse(system.tf_alpha_pulse, tf_psi_ground)\n",
    "    tf_psi_evolved = system.tf_evolve_psi(tf_H, tf_psi_excited, tf_x_)\n",
    "    tf_rho = system.tf_density_mat(tf_psi_evolved)\n",
    "    tf_probs = tf.math.real(system.tf_measure_probs(tf_rho))\n",
    "    probs.append(tf_probs[:, 0].numpy())"
   ]
  },
  {
   "cell_type": "code",
   "execution_count": null,
   "metadata": {},
   "outputs": [],
   "source": [
    "np.array(probs).shape"
   ]
  },
  {
   "cell_type": "code",
   "execution_count": null,
   "metadata": {},
   "outputs": [],
   "source": [
    "plt.figure()\n",
    "for i in range(len(probs[0])):\n",
    "    plt.scatter(np.linspace(0, 5, 100), np.array(probs)[:, i])\n",
    "plt.show()"
   ]
  },
  {
   "cell_type": "code",
   "execution_count": null,
   "metadata": {},
   "outputs": [],
   "source": [
    "np.testing.assert_almost_equal(tf.linalg.norm(tf_psi_ground[0]).numpy(), 1.0, decimal=3)\n",
    "np.testing.assert_almost_equal(\n",
    "    tf.linalg.norm(tf_psi_excited[0]).numpy(), 1.0, decimal=3\n",
    ")\n",
    "np.testing.assert_almost_equal(\n",
    "    tf.linalg.norm(tf_psi_evolved[0]).numpy(), 1.0, decimal=3\n",
    ")\n",
    "np.testing.assert_almost_equal(tf.reduce_sum(tf_probs[0]), 1.0, decimal=3)"
   ]
  },
  {
   "attachments": {},
   "cell_type": "markdown",
   "metadata": {},
   "source": [
    "Test likelihood sampling"
   ]
  },
  {
   "cell_type": "code",
   "execution_count": null,
   "metadata": {},
   "outputs": [],
   "source": [
    "learner = al.learners.BayesLearner.from_default(system)"
   ]
  },
  {
   "cell_type": "code",
   "execution_count": null,
   "metadata": {},
   "outputs": [],
   "source": [
    "learner.likelihood.sample(\n",
    "    10,\n",
    "    tf_x=tf.convert_to_tensor([3, 4, 5, 5, 6, 7], K.backend.floatx())[:, None, None],\n",
    "    tf_lambda=learner.system.tf_real_lambda,\n",
    ")"
   ]
  }
 ],
 "metadata": {
  "interpreter": {
   "hash": "ffa8639429eb69c196fa8855b6990bd12e615705bade715fb538a51aa37cf410"
  },
  "kernelspec": {
   "display_name": "Python 3.8.11 64-bit ('tensor': conda)",
   "language": "python",
   "name": "python3"
  },
  "language_info": {
   "codemirror_mode": {
    "name": "ipython",
    "version": 3
   },
   "file_extension": ".py",
   "mimetype": "text/x-python",
   "name": "python",
   "nbconvert_exporter": "python",
   "pygments_lexer": "ipython3",
   "version": "3.9.16"
  },
  "orig_nbformat": 4
 },
 "nbformat": 4,
 "nbformat_minor": 2
}
